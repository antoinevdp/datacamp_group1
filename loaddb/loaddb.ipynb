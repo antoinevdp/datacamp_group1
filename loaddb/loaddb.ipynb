{
 "cells": [
  {
   "cell_type": "code",
   "execution_count": null,
   "metadata": {},
   "outputs": [],
   "source": []
  },
  {
   "cell_type": "code",
   "execution_count": 13,
   "metadata": {},
   "outputs": [
    {
     "name": "stdout",
     "output_type": "stream",
     "text": [
      "Fallout: New Vegas    32963\n",
      "Name: app_name, dtype: int64\n",
      "Insert successful!\n"
     ]
    }
   ],
   "source": [
    "import pandas as pd\n",
    "import mariadb\n",
    "import sys\n",
    "import os\n",
    "from dotenv import load_dotenv\n",
    "\n",
    "\n",
    "df = pd.read_csv(r\"C:\\Users\\dell\\Downloads\\DATA\\dataset.csv\")\n",
    "\n",
    "# Drop the specified columns\n",
    "\n",
    "# Example filter: rows where 'app_name' contains 'game' (case-insensitive)\n",
    "game_filter = df['app_name'].str.contains('game', case=False)\n",
    "\n",
    "# List of specific app names you want to filter by\n",
    "games_to_keep = [\n",
    "    \"Fallout: New Vegas\",\n",
    "  \n",
    "]\n",
    "\n",
    "# Filter df by the specified game names\n",
    "df = df[df['app_name'].isin(games_to_keep)]\n",
    "\n",
    "# Limit to 60,000 rows\n",
    "df = df.head(60000)\n",
    "\n",
    "# Print value counts of 'app_name'\n",
    "print(df['app_name'].value_counts())\n",
    "\n",
    "# Convert to string and handle missing values\n",
    "df['app_name'] = df['app_name'].astype(str)\n",
    "df['review_text'] = df['review_text'].astype(str)\n",
    "df['review_text'] = df['review_text'].fillna('')\n",
    "\n",
    "\n",
    "db_host = os.getenv(\"DB_HOST\"),\n",
    "db_user = os.getenv(\"DB_USER\"),\n",
    "db_password = os.getenv(\"DB_PASSWORD\"),\n",
    "db_name = os.getenv(\"DB_NAME\"),\n",
    "try:\n",
    "    # Establish a connection to the MariaDB server\n",
    "    conn = mariadb.connect(\n",
    "        user=db_user,\n",
    "        password=db_password,\n",
    "        host=db_host,\n",
    "        database=db_name\n",
    "    )\n",
    "except mariadb.Error as e:\n",
    "    print(f\"Error connecting to MariaDB: {e}\")\n",
    "    sys.exit(1)\n",
    "\n",
    "cur = conn.cursor()\n",
    "\n",
    "# Prepare the insert query with placeholders\n",
    "insert_query = \"INSERT INTO comments (game_name, review_text, review_score) VALUES (%s, %s, %s)\"\n",
    "\n",
    "# Extract data as a list of tuples\n",
    "data_to_insert = list(df[['app_name', 'review_text', 'review_score']].itertuples(index=False, name=None))\n",
    "\n",
    "try:\n",
    "    # Execute many inserts at once\n",
    "    cur.executemany(insert_query, data_to_insert)\n",
    "    conn.commit()\n",
    "    print(\"Insert successful!\")\n",
    "except mariadb.Error as e:\n",
    "    print(f\"Error inserting data: {e}\")\n",
    "    conn.rollback()\n",
    "\n",
    "cur.close()\n",
    "conn.close()"
   ]
  }
 ],
 "metadata": {
  "kernelspec": {
   "display_name": "base",
   "language": "python",
   "name": "python3"
  },
  "language_info": {
   "codemirror_mode": {
    "name": "ipython",
    "version": 3
   },
   "file_extension": ".py",
   "mimetype": "text/x-python",
   "name": "python",
   "nbconvert_exporter": "python",
   "pygments_lexer": "ipython3",
   "version": "3.10.9"
  }
 },
 "nbformat": 4,
 "nbformat_minor": 2
}
